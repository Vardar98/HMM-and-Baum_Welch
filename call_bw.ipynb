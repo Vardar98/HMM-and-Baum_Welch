{
 "cells": [
  {
   "cell_type": "code",
   "execution_count": 17,
   "id": "774e654a",
   "metadata": {},
   "outputs": [
    {
     "name": "stdout",
     "output_type": "stream",
     "text": [
      "The autoreload extension is already loaded. To reload it, use:\n",
      "  %reload_ext autoreload\n"
     ]
    }
   ],
   "source": [
    "%load_ext autoreload\n",
    "%autoreload 2\n",
    "from baum_welch import *"
   ]
  },
  {
   "cell_type": "code",
   "execution_count": 33,
   "id": "1379936b",
   "metadata": {},
   "outputs": [
    {
     "name": "stdout",
     "output_type": "stream",
     "text": [
      "[[0.31351107 0.68648893]\n",
      " [0.62435227 0.37564773]]\n",
      "[[0.48180196 0.51819804]\n",
      " [0.44467416 0.55532584]]\n"
     ]
    }
   ],
   "source": [
    "T = 5000\n",
    "N = 100\n",
    "\n",
    "A = np.array([[0.1933, 0.8067], [0.6167, 0.3833]])\n",
    "B = np.array([[0.4134, 0.5866], [0.1002, 0.8998]])\n",
    "pi = np.array([[2/3],[1/3]])\n",
    "\n",
    "f = open(\"sequence.txt\", \"r\")\n",
    "teoretical_observations = []\n",
    "temp = []\n",
    "while True:\n",
    "    char = f.read(1)\n",
    "    if not char:\n",
    "        break\n",
    "    if char != ',' and char != '\\n':\n",
    "        temp.append(int(char)-1)\n",
    "    if len(temp) == N:\n",
    "        teoretical_observations.append(temp)\n",
    "        temp = []\n",
    "O = np.array(teoretical_observations)\n",
    "\n",
    "A, B, pi = fit(A, B, O, K=2, NUM_ITER=1000, pi=pi)\n",
    "print(A)\n",
    "print(B)"
   ]
  },
  {
   "cell_type": "code",
   "execution_count": 32,
   "id": "6d967fb4",
   "metadata": {},
   "outputs": [
    {
     "name": "stdout",
     "output_type": "stream",
     "text": [
      "[[0.83264244 0.16735756]\n",
      " [0.29151724 0.70848276]]\n",
      "[[0.9878546  0.0121454 ]\n",
      " [0.66199096 0.33800904]]\n"
     ]
    }
   ],
   "source": [
    "A, B, pi = fit(A, B, O, 2, NUM_ITER=2000, pi=pi)\n",
    "print(A)\n",
    "print(B)"
   ]
  },
  {
   "cell_type": "code",
   "execution_count": null,
   "id": "730fb0b9",
   "metadata": {},
   "outputs": [],
   "source": []
  }
 ],
 "metadata": {
  "kernelspec": {
   "display_name": "Python 3.9.7 ('base')",
   "language": "python",
   "name": "python3"
  },
  "language_info": {
   "codemirror_mode": {
    "name": "ipython",
    "version": 3
   },
   "file_extension": ".py",
   "mimetype": "text/x-python",
   "name": "python",
   "nbconvert_exporter": "python",
   "pygments_lexer": "ipython3",
   "version": "3.9.7"
  },
  "vscode": {
   "interpreter": {
    "hash": "ad2bdc8ecc057115af97d19610ffacc2b4e99fae6737bb82f5d7fb13d2f2c186"
   }
  }
 },
 "nbformat": 4,
 "nbformat_minor": 5
}
