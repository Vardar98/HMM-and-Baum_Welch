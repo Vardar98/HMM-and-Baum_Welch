{
 "cells": [
  {
   "cell_type": "code",
   "execution_count": 21,
   "metadata": {},
   "outputs": [
    {
     "name": "stdout",
     "output_type": "stream",
     "text": [
      "The autoreload extension is already loaded. To reload it, use:\n",
      "  %reload_ext autoreload\n"
     ]
    }
   ],
   "source": [
    "%load_ext autoreload\n",
    "%autoreload 2\n",
    "import matplotlib.pyplot as plt \n",
    "import numpy as np\n",
    "import baum_welch as bw\n",
    "import cml_incomplete as cml_inc\n",
    "import create_sequence_w_labels as cswl\n",
    "from initial_guess import get_initial_values \n"
   ]
  },
  {
   "cell_type": "code",
   "execution_count": 22,
   "metadata": {},
   "outputs": [],
   "source": [
    "def viterbi(V, a, b, initial_distribution):\n",
    "    T = V.shape[0]\n",
    "    M = a.shape[0]\n",
    " \n",
    "    omega = np.zeros((T, M))\n",
    "    omega[0, :] = np.log(initial_distribution * b[:, V[0]])\n",
    " \n",
    "    prev = np.zeros((T - 1, M))\n",
    " \n",
    "    for t in range(1, T):\n",
    "        for j in range(M):\n",
    "            # Same as Forward Probability\n",
    "            probability = omega[t - 1] + np.log(a[:, j]) + np.log(b[j, V[t]])\n",
    " \n",
    "            # This is our most probable state given previous state at time t (1)\n",
    "            prev[t - 1, j] = np.argmax(probability)\n",
    " \n",
    "            # This is the probability of the most probable state (2)\n",
    "            omega[t, j] = np.max(probability)\n",
    " \n",
    "    # Path Array\n",
    "    S = np.zeros(T)\n",
    " \n",
    "    # Find the most probable last hidden state\n",
    "    last_state = np.argmax(omega[T - 1, :])\n",
    " \n",
    "    S[0] = last_state\n",
    " \n",
    "    backtrack_index = 1\n",
    "    for i in range(T - 2, -1, -1):\n",
    "        S[backtrack_index] = prev[i, int(last_state)]\n",
    "        last_state = prev[i, int(last_state)]\n",
    "        backtrack_index += 1\n",
    " \n",
    "    # Flip the path array since we were backtracking\n",
    "    S = np.flip(S, axis=0)\n",
    " \n",
    "    # Convert numeric values to actual hidden states\n",
    "    result = []\n",
    "    for s in S:\n",
    "        result.append(s)\n",
    "    return result\n"
   ]
  },
  {
   "cell_type": "code",
   "execution_count": 23,
   "metadata": {},
   "outputs": [],
   "source": [
    "def combined_cml_approach(A, A_gt, B, B_gt, P, P_gt, pi, teoretical_observations, teoretical_labels, max_total_epoch, T_train, alternate_iter, K):\n",
    "    prob_list_total = []\n",
    "    for i in range(max_total_epoch):\n",
    "        # Update A and P using the cml with incomplete label approach\n",
    "        A, B, P = cml_inc.fit(A, B, P, pi, teoretical_observations[0:T_train], teoretical_labels[0:T_train], alternate_iter, update_A=True, update_B=False, update_P=True)\n",
    "        \n",
    "        # Update B and pi\n",
    "        A, B, pi, prob_list, iter, final_tolerance = bw.fit(A, B, teoretical_observations[0:T_train], K, TOL = 1e-5, NUM_ITER = alternate_iter, pi = pi, hold_A=True)\n",
    "        \n",
    "        for j in range(len(prob_list)):\n",
    "            prob_list_total.append(prob_list[j])\n",
    "        print('Total epoch:', i)\n",
    "\n",
    "    print('A_final:\\n', np.round(A,3))\n",
    "    print('A_gt:\\n', A_gt)\n",
    "    print('diff_A:', np.linalg.norm(A - A_gt))\n",
    "    print('B_final:\\n', np.round(B,3))\n",
    "    print('B_gt:\\n', B_gt)\n",
    "    print('diff_B:', np.linalg.norm(B - B_gt))\n",
    "    print('P_final:\\n', np.round(P,3))\n",
    "    print('P_gt:\\n', np.round(P_gt,3))\n",
    "    print('diff_P:', np.linalg.norm(P - P_gt))\n",
    "    plt.plot(prob_list_total)\n",
    "    plt.show()\n",
    "    print('The best probability we can get on the combined CML appraoch is:', prob_list_total[-1])\n",
    "    return A, B, pi"
   ]
  },
  {
   "cell_type": "code",
   "execution_count": 24,
   "metadata": {},
   "outputs": [],
   "source": [
    "def pure_bw_approach(A, A_gt, B, B_gt, teoretical_observations, K, alternate_iter, pi):\n",
    "    A, B, pi, prob_list, _, _ = bw.fit(A, B, teoretical_observations[0:T_train], K, TOL = 1e-5, NUM_ITER = alternate_iter, pi = pi, hold_A = False)\n",
    "    print('A_final:\\n', np.round(A,3))\n",
    "    print('A_gt:\\n', A_gt)\n",
    "    print('diff_A:', np.linalg.norm(A - A_gt))\n",
    "    print('B_final:\\n', np.round(B,3))\n",
    "    print('B_gt:\\n', B_gt)\n",
    "    print('diff_B:', np.linalg.norm(B - B_gt))\n",
    "    plt.plot(prob_list)\n",
    "    plt.show()\n",
    "    print('The best probability we can get on the pure BW appraoch is:', prob_list[-1])\n",
    "    return A, B, pi"
   ]
  },
  {
   "cell_type": "code",
   "execution_count": 33,
   "metadata": {},
   "outputs": [],
   "source": [
    "def calculate_wrong_prediction(T_dev, T_train, teoretical_observations, teoretical_states, A_final_cml, B_final_cml, pi_final_cml, A_final_bw, B_final_bw, pi_final_bw):\n",
    "    wrong_estimates_bw_total = 0\n",
    "    wrong_estimates_cml_total = 0\n",
    "    for dev_index in range(T_dev):\n",
    "        result_cml = viterbi(np.array(teoretical_observations[T_train+dev_index]), A_final_cml, B_final_cml, pi_final_cml.T)\n",
    "        result_bw = viterbi(np.array(teoretical_observations[T_train+dev_index]), A_final_bw, B_final_bw, pi_final_bw.T)\n",
    "        wrong_estimates_cml = 0\n",
    "        wrong_estimates_bw = 0\n",
    "        for m in range(len(result_cml)):\n",
    "            if result_cml[m] != teoretical_states[T_train+dev_index][m]:\n",
    "                wrong_estimates_cml += 1\n",
    "            if result_bw[m] != teoretical_states[T_train+dev_index][m]:\n",
    "                wrong_estimates_bw += 1 \n",
    "        wrong_estimates_bw_total += wrong_estimates_bw/N*100\n",
    "        wrong_estimates_cml_total += wrong_estimates_cml/N*100\n",
    "    \n",
    "    wrong_estimates_cml_mean = np.round(wrong_estimates_cml_total/T_dev,4)\n",
    "    wrong_estimates_bw_mean = np.round(wrong_estimates_bw_total/T_dev,4)\n",
    "    cml_better = -np.round(wrong_estimates_cml_mean - wrong_estimates_bw_mean, 4)\n",
    "\n",
    "    print('The percentage of the wrong estimated states for the combained cml appraoch in average is:', wrong_estimates_cml_mean)\n",
    "    print('The percentage of the wrong estimated states for the bw appraoch in average is:', wrong_estimates_bw_mean)\n",
    "    print('The cml in average is ' + str(cml_better) + ' better than the BW')"
   ]
  },
  {
   "cell_type": "code",
   "execution_count": 34,
   "metadata": {},
   "outputs": [
    {
     "ename": "SystemError",
     "evalue": "CPUDispatcher(<function incomplete_label_forward at 0x0000019F99E22D30>) returned a result with an error set",
     "output_type": "error",
     "traceback": [
      "\u001b[1;31m---------------------------------------------------------------------------\u001b[0m",
      "\u001b[1;31mKeyboardInterrupt\u001b[0m                         Traceback (most recent call last)",
      "\u001b[1;32mc:\\ProgramData\\Anaconda3\\lib\\site-packages\\numba\\core\\serialize.py\u001b[0m in \u001b[0;36m_numba_unpickle\u001b[1;34m(address, bytedata, hashed)\u001b[0m\n\u001b[0;32m     42\u001b[0m     \"\"\"\n\u001b[1;32m---> 43\u001b[1;33m     \u001b[0mkey\u001b[0m \u001b[1;33m=\u001b[0m \u001b[1;33m(\u001b[0m\u001b[0maddress\u001b[0m\u001b[1;33m,\u001b[0m \u001b[0mhashed\u001b[0m\u001b[1;33m)\u001b[0m\u001b[1;33m\u001b[0m\u001b[1;33m\u001b[0m\u001b[0m\n\u001b[0m\u001b[0;32m     44\u001b[0m     \u001b[1;32mtry\u001b[0m\u001b[1;33m:\u001b[0m\u001b[1;33m\u001b[0m\u001b[1;33m\u001b[0m\u001b[0m\n",
      "\u001b[1;31mKeyboardInterrupt\u001b[0m: ",
      "\nThe above exception was the direct cause of the following exception:\n",
      "\u001b[1;31mSystemError\u001b[0m                               Traceback (most recent call last)",
      "\u001b[1;31mSystemError\u001b[0m: _PyEval_EvalFrameDefault returned a result with an error set",
      "\nThe above exception was the direct cause of the following exception:\n",
      "\u001b[1;31mSystemError\u001b[0m                               Traceback (most recent call last)",
      "\u001b[1;31mSystemError\u001b[0m: _PyEval_EvalFrameDefault returned a result with an error set",
      "\nThe above exception was the direct cause of the following exception:\n",
      "\u001b[1;31mSystemError\u001b[0m                               Traceback (most recent call last)",
      "\u001b[1;31mSystemError\u001b[0m: _PyEval_EvalFrameDefault returned a result with an error set",
      "\nThe above exception was the direct cause of the following exception:\n",
      "\u001b[1;31mSystemError\u001b[0m                               Traceback (most recent call last)",
      "\u001b[1;31mSystemError\u001b[0m: _PyEval_EvalFrameDefault returned a result with an error set",
      "\nThe above exception was the direct cause of the following exception:\n",
      "\u001b[1;31mSystemError\u001b[0m                               Traceback (most recent call last)",
      "\u001b[1;31mSystemError\u001b[0m: _PyEval_EvalFrameDefault returned a result with an error set",
      "\nThe above exception was the direct cause of the following exception:\n",
      "\u001b[1;31mSystemError\u001b[0m                               Traceback (most recent call last)",
      "\u001b[1;32m~\\AppData\\Local\\Temp/ipykernel_12348/1186951287.py\u001b[0m in \u001b[0;36m<module>\u001b[1;34m\u001b[0m\n\u001b[0;32m     15\u001b[0m     \u001b[0mA_gt\u001b[0m\u001b[1;33m,\u001b[0m \u001b[0mB_gt\u001b[0m\u001b[1;33m,\u001b[0m \u001b[0mpi_gt\u001b[0m\u001b[1;33m,\u001b[0m \u001b[0mP_gt\u001b[0m\u001b[1;33m,\u001b[0m \u001b[0mteoretical_observations\u001b[0m\u001b[1;33m,\u001b[0m \u001b[0mteoretical_states\u001b[0m\u001b[1;33m,\u001b[0m \u001b[0mteoretical_labels\u001b[0m \u001b[1;33m=\u001b[0m \u001b[0mcswl\u001b[0m\u001b[1;33m.\u001b[0m\u001b[0mhmmgenerate\u001b[0m\u001b[1;33m(\u001b[0m\u001b[0mK\u001b[0m\u001b[1;33m,\u001b[0m \u001b[0mL\u001b[0m\u001b[1;33m,\u001b[0m \u001b[0mT\u001b[0m\u001b[1;33m,\u001b[0m \u001b[0mN\u001b[0m\u001b[1;33m,\u001b[0m \u001b[0mS\u001b[0m\u001b[1;33m=\u001b[0m\u001b[1;36m0\u001b[0m\u001b[1;33m,\u001b[0m \u001b[0mD\u001b[0m\u001b[1;33m=\u001b[0m\u001b[1;36m0\u001b[0m\u001b[1;33m,\u001b[0m \u001b[0medhmm\u001b[0m \u001b[1;33m=\u001b[0m \u001b[1;32mFalse\u001b[0m\u001b[1;33m)\u001b[0m\u001b[1;33m\u001b[0m\u001b[1;33m\u001b[0m\u001b[0m\n\u001b[0;32m     16\u001b[0m     \u001b[0mA_init\u001b[0m\u001b[1;33m,\u001b[0m \u001b[0mB_init\u001b[0m\u001b[1;33m,\u001b[0m \u001b[0mpi_init\u001b[0m\u001b[1;33m,\u001b[0m \u001b[0mP_init\u001b[0m \u001b[1;33m=\u001b[0m \u001b[0mget_initial_values\u001b[0m\u001b[1;33m(\u001b[0m\u001b[0mA_gt\u001b[0m\u001b[1;33m,\u001b[0m \u001b[0mB_gt\u001b[0m\u001b[1;33m,\u001b[0m \u001b[0mnoise_variance\u001b[0m\u001b[1;33m,\u001b[0m \u001b[0mP_gt\u001b[0m\u001b[1;33m,\u001b[0m \u001b[0mhave_P\u001b[0m \u001b[1;33m=\u001b[0m \u001b[1;32mTrue\u001b[0m\u001b[1;33m)\u001b[0m\u001b[1;33m\u001b[0m\u001b[1;33m\u001b[0m\u001b[0m\n\u001b[1;32m---> 17\u001b[1;33m     \u001b[0mA_final_cml\u001b[0m\u001b[1;33m,\u001b[0m \u001b[0mB_final_cml\u001b[0m\u001b[1;33m,\u001b[0m \u001b[0mpi_final_cml\u001b[0m \u001b[1;33m=\u001b[0m \u001b[0mcombined_cml_approach\u001b[0m\u001b[1;33m(\u001b[0m\u001b[0mA_init\u001b[0m\u001b[1;33m,\u001b[0m \u001b[0mA_gt\u001b[0m\u001b[1;33m,\u001b[0m \u001b[0mB_init\u001b[0m\u001b[1;33m,\u001b[0m \u001b[0mB_gt\u001b[0m\u001b[1;33m,\u001b[0m \u001b[0mP_init\u001b[0m\u001b[1;33m,\u001b[0m \u001b[0mP_gt\u001b[0m\u001b[1;33m,\u001b[0m \u001b[0mpi_init\u001b[0m\u001b[1;33m,\u001b[0m \u001b[0mteoretical_observations\u001b[0m\u001b[1;33m,\u001b[0m \u001b[0mteoretical_labels\u001b[0m\u001b[1;33m,\u001b[0m \u001b[0mmax_total_epoch\u001b[0m\u001b[1;33m,\u001b[0m \u001b[0mT_train\u001b[0m\u001b[1;33m,\u001b[0m \u001b[0malternate_iter\u001b[0m\u001b[1;33m,\u001b[0m \u001b[0mK\u001b[0m\u001b[1;33m)\u001b[0m\u001b[1;33m\u001b[0m\u001b[1;33m\u001b[0m\u001b[0m\n\u001b[0m\u001b[0;32m     18\u001b[0m     \u001b[0mA_final_bw\u001b[0m\u001b[1;33m,\u001b[0m \u001b[0mB_final_bw\u001b[0m\u001b[1;33m,\u001b[0m \u001b[0mpi_final_bw\u001b[0m \u001b[1;33m=\u001b[0m \u001b[0mpure_bw_approach\u001b[0m\u001b[1;33m(\u001b[0m\u001b[0mA_init\u001b[0m\u001b[1;33m,\u001b[0m \u001b[0mA_gt\u001b[0m\u001b[1;33m,\u001b[0m \u001b[0mB_init\u001b[0m\u001b[1;33m,\u001b[0m \u001b[0mB_gt\u001b[0m\u001b[1;33m,\u001b[0m \u001b[0mteoretical_observations\u001b[0m\u001b[1;33m,\u001b[0m \u001b[0mK\u001b[0m\u001b[1;33m,\u001b[0m \u001b[0mbw_iter\u001b[0m\u001b[1;33m,\u001b[0m \u001b[0mpi_init\u001b[0m\u001b[1;33m)\u001b[0m\u001b[1;33m\u001b[0m\u001b[1;33m\u001b[0m\u001b[0m\n\u001b[0;32m     19\u001b[0m     \u001b[0mcalculate_wrong_prediction\u001b[0m\u001b[1;33m(\u001b[0m\u001b[0mT_dev\u001b[0m\u001b[1;33m,\u001b[0m \u001b[0mT_train\u001b[0m\u001b[1;33m,\u001b[0m \u001b[0mteoretical_observations\u001b[0m\u001b[1;33m,\u001b[0m \u001b[0mteoretical_states\u001b[0m\u001b[1;33m,\u001b[0m \u001b[0mA_final_cml\u001b[0m\u001b[1;33m,\u001b[0m \u001b[0mB_final_cml\u001b[0m\u001b[1;33m,\u001b[0m \u001b[0mpi_final_cml\u001b[0m\u001b[1;33m,\u001b[0m \u001b[0mA_final_bw\u001b[0m\u001b[1;33m,\u001b[0m \u001b[0mB_final_bw\u001b[0m\u001b[1;33m,\u001b[0m \u001b[0mpi_final_bw\u001b[0m\u001b[1;33m)\u001b[0m\u001b[1;33m\u001b[0m\u001b[1;33m\u001b[0m\u001b[0m\n",
      "\u001b[1;32m~\\AppData\\Local\\Temp/ipykernel_12348/3271597618.py\u001b[0m in \u001b[0;36mcombined_cml_approach\u001b[1;34m(A, A_gt, B, B_gt, P, P_gt, pi, teoretical_observations, teoretical_labels, max_total_epoch, T_train, alternate_iter, K)\u001b[0m\n\u001b[0;32m      3\u001b[0m     \u001b[1;32mfor\u001b[0m \u001b[0mi\u001b[0m \u001b[1;32min\u001b[0m \u001b[0mrange\u001b[0m\u001b[1;33m(\u001b[0m\u001b[0mmax_total_epoch\u001b[0m\u001b[1;33m)\u001b[0m\u001b[1;33m:\u001b[0m\u001b[1;33m\u001b[0m\u001b[1;33m\u001b[0m\u001b[0m\n\u001b[0;32m      4\u001b[0m         \u001b[1;31m# Update A and P using the cml with incomplete label approach\u001b[0m\u001b[1;33m\u001b[0m\u001b[1;33m\u001b[0m\u001b[0m\n\u001b[1;32m----> 5\u001b[1;33m         \u001b[0mA\u001b[0m\u001b[1;33m,\u001b[0m \u001b[0mB\u001b[0m\u001b[1;33m,\u001b[0m \u001b[0mP\u001b[0m \u001b[1;33m=\u001b[0m \u001b[0mcml_inc\u001b[0m\u001b[1;33m.\u001b[0m\u001b[0mfit\u001b[0m\u001b[1;33m(\u001b[0m\u001b[0mA\u001b[0m\u001b[1;33m,\u001b[0m \u001b[0mB\u001b[0m\u001b[1;33m,\u001b[0m \u001b[0mP\u001b[0m\u001b[1;33m,\u001b[0m \u001b[0mpi\u001b[0m\u001b[1;33m,\u001b[0m \u001b[0mteoretical_observations\u001b[0m\u001b[1;33m[\u001b[0m\u001b[1;36m0\u001b[0m\u001b[1;33m:\u001b[0m\u001b[0mT_train\u001b[0m\u001b[1;33m]\u001b[0m\u001b[1;33m,\u001b[0m \u001b[0mteoretical_labels\u001b[0m\u001b[1;33m[\u001b[0m\u001b[1;36m0\u001b[0m\u001b[1;33m:\u001b[0m\u001b[0mT_train\u001b[0m\u001b[1;33m]\u001b[0m\u001b[1;33m,\u001b[0m \u001b[0malternate_iter\u001b[0m\u001b[1;33m,\u001b[0m \u001b[0mupdate_A\u001b[0m\u001b[1;33m=\u001b[0m\u001b[1;32mTrue\u001b[0m\u001b[1;33m,\u001b[0m \u001b[0mupdate_B\u001b[0m\u001b[1;33m=\u001b[0m\u001b[1;32mFalse\u001b[0m\u001b[1;33m,\u001b[0m \u001b[0mupdate_P\u001b[0m\u001b[1;33m=\u001b[0m\u001b[1;32mTrue\u001b[0m\u001b[1;33m)\u001b[0m\u001b[1;33m\u001b[0m\u001b[1;33m\u001b[0m\u001b[0m\n\u001b[0m\u001b[0;32m      6\u001b[0m \u001b[1;33m\u001b[0m\u001b[0m\n\u001b[0;32m      7\u001b[0m         \u001b[1;31m# Update B and pi\u001b[0m\u001b[1;33m\u001b[0m\u001b[1;33m\u001b[0m\u001b[0m\n",
      "\u001b[1;32mc:\\Users\\eevar\\Desktop\\sommarjobb 2022\\FINAL PRODUCT\\cml_incomplete.py\u001b[0m in \u001b[0;36mfit\u001b[1;34m(A, B, P, pi, observations, labels, max_epoch, update_A, update_B, update_P)\u001b[0m\n\u001b[0;32m    290\u001b[0m     \"\"\"\n\u001b[0;32m    291\u001b[0m     \u001b[1;32mfor\u001b[0m \u001b[0mepoch\u001b[0m \u001b[1;32min\u001b[0m \u001b[0mrange\u001b[0m\u001b[1;33m(\u001b[0m\u001b[0mmax_epoch\u001b[0m\u001b[1;33m)\u001b[0m\u001b[1;33m:\u001b[0m\u001b[1;33m\u001b[0m\u001b[1;33m\u001b[0m\u001b[0m\n\u001b[1;32m--> 292\u001b[1;33m         \u001b[0mA\u001b[0m\u001b[1;33m,\u001b[0m \u001b[0mB\u001b[0m\u001b[1;33m,\u001b[0m \u001b[0mP\u001b[0m \u001b[1;33m=\u001b[0m \u001b[0mupdate_1_epoch\u001b[0m\u001b[1;33m(\u001b[0m\u001b[0mA\u001b[0m\u001b[1;33m,\u001b[0m \u001b[0mB\u001b[0m\u001b[1;33m,\u001b[0m \u001b[0mP\u001b[0m\u001b[1;33m,\u001b[0m \u001b[0mpi\u001b[0m\u001b[1;33m,\u001b[0m \u001b[0mobservations\u001b[0m\u001b[1;33m,\u001b[0m \u001b[0mlabels\u001b[0m\u001b[1;33m,\u001b[0m \u001b[0mupdate_A\u001b[0m\u001b[1;33m,\u001b[0m \u001b[0mupdate_B\u001b[0m\u001b[1;33m,\u001b[0m \u001b[0mupdate_P\u001b[0m\u001b[1;33m)\u001b[0m\u001b[1;33m\u001b[0m\u001b[1;33m\u001b[0m\u001b[0m\n\u001b[0m\u001b[0;32m    293\u001b[0m     \u001b[1;32mreturn\u001b[0m \u001b[0mA\u001b[0m\u001b[1;33m,\u001b[0m \u001b[0mB\u001b[0m\u001b[1;33m,\u001b[0m \u001b[0mP\u001b[0m\u001b[1;33m\u001b[0m\u001b[1;33m\u001b[0m\u001b[0m\n\u001b[0;32m    294\u001b[0m \u001b[1;33m\u001b[0m\u001b[0m\n",
      "\u001b[1;32mc:\\Users\\eevar\\Desktop\\sommarjobb 2022\\FINAL PRODUCT\\cml_incomplete.py\u001b[0m in \u001b[0;36mupdate_1_epoch\u001b[1;34m(A, B, P, pi, observations, labels, update_A, update_B, update_P)\u001b[0m\n\u001b[0;32m    254\u001b[0m     \u001b[1;32mfor\u001b[0m \u001b[0mr\u001b[0m \u001b[1;32min\u001b[0m \u001b[0mrange\u001b[0m\u001b[1;33m(\u001b[0m\u001b[0mlen\u001b[0m\u001b[1;33m(\u001b[0m\u001b[0mobservations\u001b[0m\u001b[1;33m)\u001b[0m\u001b[1;33m)\u001b[0m\u001b[1;33m:\u001b[0m\u001b[1;33m\u001b[0m\u001b[1;33m\u001b[0m\u001b[0m\n\u001b[0;32m    255\u001b[0m         \u001b[1;31m# Calculate the necessary forward and backward variables\u001b[0m\u001b[1;33m\u001b[0m\u001b[1;33m\u001b[0m\u001b[0m\n\u001b[1;32m--> 256\u001b[1;33m         \u001b[0malpha\u001b[0m\u001b[1;33m,\u001b[0m \u001b[0malpha_p\u001b[0m\u001b[1;33m,\u001b[0m \u001b[0malpha_m\u001b[0m\u001b[1;33m,\u001b[0m \u001b[0mc\u001b[0m\u001b[1;33m,\u001b[0m \u001b[0mc_p\u001b[0m\u001b[1;33m,\u001b[0m \u001b[0mc_m\u001b[0m \u001b[1;33m=\u001b[0m \u001b[0mincomplete_label_forward\u001b[0m\u001b[1;33m(\u001b[0m\u001b[0mA\u001b[0m\u001b[1;33m,\u001b[0m \u001b[0mB\u001b[0m\u001b[1;33m,\u001b[0m \u001b[0mP\u001b[0m\u001b[1;33m,\u001b[0m \u001b[0mpi\u001b[0m\u001b[1;33m,\u001b[0m \u001b[0mobservations\u001b[0m\u001b[1;33m[\u001b[0m\u001b[0mr\u001b[0m\u001b[1;33m]\u001b[0m\u001b[1;33m,\u001b[0m \u001b[0mnp\u001b[0m\u001b[1;33m.\u001b[0m\u001b[0marray\u001b[0m\u001b[1;33m(\u001b[0m\u001b[0mlabels\u001b[0m\u001b[1;33m[\u001b[0m\u001b[0mr\u001b[0m\u001b[1;33m]\u001b[0m\u001b[1;33m)\u001b[0m\u001b[1;33m)\u001b[0m\u001b[1;33m\u001b[0m\u001b[1;33m\u001b[0m\u001b[0m\n\u001b[0m\u001b[0;32m    257\u001b[0m         \u001b[0mbeta\u001b[0m \u001b[1;33m=\u001b[0m \u001b[0mincomplete_label_backward\u001b[0m\u001b[1;33m(\u001b[0m\u001b[0mA\u001b[0m\u001b[1;33m,\u001b[0m \u001b[0mB\u001b[0m\u001b[1;33m,\u001b[0m \u001b[0mP\u001b[0m\u001b[1;33m,\u001b[0m \u001b[0mobservations\u001b[0m\u001b[1;33m[\u001b[0m\u001b[0mr\u001b[0m\u001b[1;33m]\u001b[0m\u001b[1;33m,\u001b[0m \u001b[0mnp\u001b[0m\u001b[1;33m.\u001b[0m\u001b[0marray\u001b[0m\u001b[1;33m(\u001b[0m\u001b[0mlabels\u001b[0m\u001b[1;33m[\u001b[0m\u001b[0mr\u001b[0m\u001b[1;33m]\u001b[0m\u001b[1;33m)\u001b[0m\u001b[1;33m,\u001b[0m \u001b[0mc\u001b[0m\u001b[1;33m)\u001b[0m\u001b[1;33m\u001b[0m\u001b[1;33m\u001b[0m\u001b[0m\n\u001b[0;32m    258\u001b[0m \u001b[1;33m\u001b[0m\u001b[0m\n",
      "\u001b[1;31mSystemError\u001b[0m: CPUDispatcher(<function incomplete_label_forward at 0x0000019F99E22D30>) returned a result with an error set"
     ]
    }
   ],
   "source": [
    "K = 2                  # states\n",
    "L = 4                  # observations\n",
    "T_train = 15           # number of training sequences \n",
    "T_dev = 10             # number of development set sequences\n",
    "T = T_train + T_dev    # total number of sequences\n",
    "N = 2048               # number of observations on each sequence\n",
    "noise_variance = 0.1   # Noise variance\n",
    "alternate_iter = 3     # alternate the update of A and P after 'alternate_iter' iterations with B and pi\n",
    "max_total_epoch = 5    # Do the update of A and P and B and pi respectively max_total_epoch times \n",
    "                       # where each iteration of A/B/P/pi is alternate_iter times\n",
    "bw_iter = 40           # Max iterate for tthe pure baum-welch approach \n",
    "do_experiment = 5      \n",
    "\n",
    "for i in range(do_experiment):\n",
    "    A_gt, B_gt, pi_gt, P_gt, teoretical_observations, teoretical_states, teoretical_labels = cswl.hmmgenerate(K, L, T, N, S=0, D=0, edhmm = False)\n",
    "    A_init, B_init, pi_init, P_init = get_initial_values(A_gt, B_gt, noise_variance, P_gt, have_P = True)\n",
    "    A_final_cml, B_final_cml, pi_final_cml = combined_cml_approach(A_init, A_gt, B_init, B_gt, P_init, P_gt, pi_init, teoretical_observations, teoretical_labels, max_total_epoch, T_train, alternate_iter, K)\n",
    "    A_final_bw, B_final_bw, pi_final_bw = pure_bw_approach(A_init, A_gt, B_init, B_gt, teoretical_observations, K, bw_iter, pi_init)\n",
    "    calculate_wrong_prediction(T_dev, T_train, teoretical_observations, teoretical_states, A_final_cml, B_final_cml, pi_final_cml, A_final_bw, B_final_bw, pi_final_bw)\n"
   ]
  },
  {
   "cell_type": "code",
   "execution_count": null,
   "metadata": {},
   "outputs": [],
   "source": []
  }
 ],
 "metadata": {
  "kernelspec": {
   "display_name": "Python 3.9.7 ('base')",
   "language": "python",
   "name": "python3"
  },
  "language_info": {
   "codemirror_mode": {
    "name": "ipython",
    "version": 3
   },
   "file_extension": ".py",
   "mimetype": "text/x-python",
   "name": "python",
   "nbconvert_exporter": "python",
   "pygments_lexer": "ipython3",
   "version": "3.9.7"
  },
  "orig_nbformat": 4,
  "vscode": {
   "interpreter": {
    "hash": "ad2bdc8ecc057115af97d19610ffacc2b4e99fae6737bb82f5d7fb13d2f2c186"
   }
  }
 },
 "nbformat": 4,
 "nbformat_minor": 2
}
