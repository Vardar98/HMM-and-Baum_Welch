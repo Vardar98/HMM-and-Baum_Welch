{
 "cells": [
  {
   "cell_type": "code",
   "execution_count": 1,
   "metadata": {},
   "outputs": [],
   "source": [
    "%load_ext autoreload\n",
    "%autoreload 2\n",
    "import matplotlib.pyplot as plt \n",
    "import numpy as np\n",
    "import baum_welch as bw\n",
    "import cml_incomplete as cml_inc\n",
    "import create_sequence_w_labels as cswl\n",
    "from initial_guess import get_initial_values \n"
   ]
  },
  {
   "cell_type": "code",
   "execution_count": 2,
   "metadata": {},
   "outputs": [],
   "source": [
    "def viterbi(V, a, b, initial_distribution):\n",
    "    T = V.shape[0]\n",
    "    M = a.shape[0]\n",
    " \n",
    "    omega = np.zeros((T, M))\n",
    "    omega[0, :] = np.log(initial_distribution * b[:, V[0]])\n",
    " \n",
    "    prev = np.zeros((T - 1, M))\n",
    " \n",
    "    for t in range(1, T):\n",
    "        for j in range(M):\n",
    "            # Same as Forward Probability\n",
    "            probability = omega[t - 1] + np.log(a[:, j]) + np.log(b[j, V[t]])\n",
    " \n",
    "            # This is our most probable state given previous state at time t (1)\n",
    "            prev[t - 1, j] = np.argmax(probability)\n",
    " \n",
    "            # This is the probability of the most probable state (2)\n",
    "            omega[t, j] = np.max(probability)\n",
    " \n",
    "    # Path Array\n",
    "    S = np.zeros(T)\n",
    " \n",
    "    # Find the most probable last hidden state\n",
    "    last_state = np.argmax(omega[T - 1, :])\n",
    " \n",
    "    S[0] = last_state\n",
    " \n",
    "    backtrack_index = 1\n",
    "    for i in range(T - 2, -1, -1):\n",
    "        S[backtrack_index] = prev[i, int(last_state)]\n",
    "        last_state = prev[i, int(last_state)]\n",
    "        backtrack_index += 1\n",
    " \n",
    "    # Flip the path array since we were backtracking\n",
    "    S = np.flip(S, axis=0)\n",
    " \n",
    "    # Convert numeric values to actual hidden states\n",
    "    result = []\n",
    "    for s in S:\n",
    "        result.append(s)\n",
    "    return result\n"
   ]
  },
  {
   "cell_type": "code",
   "execution_count": 3,
   "metadata": {},
   "outputs": [],
   "source": [
    "def combined_cml_approach(A, A_gt, B, B_gt, P, P_gt, pi, teoretical_observations, teoretical_labels, max_total_epoch, T_train, alternate_iter, K):\n",
    "    prob_list_total = []\n",
    "    for i in range(max_total_epoch):\n",
    "        # Update A and P using the cml with incomplete label approach\n",
    "        A, B, P = cml_inc.fit(A, B, P, pi, teoretical_observations[0:T_train], teoretical_labels[0:T_train], alternate_iter, update_A=True, update_B=False, update_P=True)\n",
    "        \n",
    "        # Update B and pi\n",
    "        A, B, pi, prob_list, iter, final_tolerance = bw.fit(A, B, teoretical_observations[0:T_train], K, TOL = 1e-5, NUM_ITER = alternate_iter, pi = pi, hold_A=True)\n",
    "        \n",
    "        for j in range(len(prob_list)):\n",
    "            prob_list_total.append(prob_list[j])\n",
    "        print('Total epoch:', i)\n",
    "\n",
    "    print('A_final:\\n', np.round(A,3))\n",
    "    print('A_gt:\\n', A_gt)\n",
    "    print('diff_A:', np.linalg.norm(A - A_gt))\n",
    "    print('B_final:\\n', np.round(B,3))\n",
    "    print('B_gt:\\n', B_gt)\n",
    "    print('diff_B:', np.linalg.norm(B - B_gt))\n",
    "    print('P_final:\\n', np.round(P,3))\n",
    "    print('P_gt:\\n', np.round(P_gt,3))\n",
    "    print('diff_P:', np.linalg.norm(P - P_gt))\n",
    "    plt.plot(prob_list_total)\n",
    "    plt.show()\n",
    "    print('The best probability we can get on the combined CML appraoch is:', prob_list_total[-1])\n",
    "    return A, B, pi"
   ]
  },
  {
   "cell_type": "code",
   "execution_count": 4,
   "metadata": {},
   "outputs": [],
   "source": [
    "def pure_bw_approach(A, A_gt, B, B_gt, teoretical_observations, K, alternate_iter, pi):\n",
    "    A, B, pi, prob_list, _, _ = bw.fit(A, B, teoretical_observations[0:T_train], K, TOL = 1e-5, NUM_ITER = alternate_iter, pi = pi, hold_A = False)\n",
    "    print('A_final:\\n', np.round(A,3))\n",
    "    print('A_gt:\\n', A_gt)\n",
    "    print('diff_A:', np.linalg.norm(A - A_gt))\n",
    "    print('B_final:\\n', np.round(B,3))\n",
    "    print('B_gt:\\n', B_gt)\n",
    "    print('diff_B:', np.linalg.norm(B - B_gt))\n",
    "    plt.plot(prob_list)\n",
    "    plt.show()\n",
    "    print('The best probability we can get on the pure BW appraoch is:', prob_list[-1])\n",
    "    return A, B, pi"
   ]
  },
  {
   "cell_type": "code",
   "execution_count": 5,
   "metadata": {},
   "outputs": [],
   "source": [
    "def calculate_wrong_prediction(T_dev, T_train, teoretical_observations, teoretical_states, A_final_cml, B_final_cml, pi_final_cml, A_final_bw, B_final_bw, pi_final_bw):\n",
    "    wrong_estimates_bw_total = 0\n",
    "    wrong_estimates_cml_total = 0\n",
    "    for dev_index in range(T_dev):\n",
    "        result_cml = viterbi(np.array(teoretical_observations[T_train+dev_index]), A_final_cml, B_final_cml, pi_final_cml.T)\n",
    "        result_bw = viterbi(np.array(teoretical_observations[T_train+dev_index]), A_final_bw, B_final_bw, pi_final_bw.T)\n",
    "        wrong_estimates_cml = 0\n",
    "        wrong_estimates_bw = 0\n",
    "        for m in range(len(result_cml)):\n",
    "            if result_cml[m] != teoretical_states[T_train+dev_index][m]:\n",
    "                wrong_estimates_cml += 1\n",
    "            if result_bw[m] != teoretical_states[T_train+dev_index][m]:\n",
    "                wrong_estimates_bw += 1 \n",
    "        wrong_estimates_bw_total += wrong_estimates_bw/N*100\n",
    "        wrong_estimates_cml_total += wrong_estimates_cml/N*100\n",
    "    \n",
    "    wrong_estimates_cml_mean = np.round(wrong_estimates_cml_total/T_dev,4)\n",
    "    wrong_estimates_bw_mean = np.round(wrong_estimates_bw_total/T_dev,4)\n",
    "    cml_better = -np.round(wrong_estimates_cml_mean - wrong_estimates_bw_mean, 4)\n",
    "\n",
    "    print('The percentage of the wrong estimated states for the combained cml appraoch in average is:', wrong_estimates_cml_mean)\n",
    "    print('The percentage of the wrong estimated states for the bw appraoch in average is:', wrong_estimates_bw_mean)\n",
    "    print('The cml in average is ' + str(cml_better) + ' better than the BW')"
   ]
  },
  {
   "cell_type": "code",
   "execution_count": 6,
   "metadata": {},
   "outputs": [
    {
     "name": "stdout",
     "output_type": "stream",
     "text": [
      "0\n",
      "1\n",
      "2\n",
      "Total epoch: 0\n",
      "0\n",
      "1\n",
      "2\n",
      "Total epoch: 1\n",
      "0\n",
      "1\n",
      "2\n",
      "Total epoch: 2\n",
      "0\n",
      "1\n",
      "2\n",
      "Total epoch: 3\n",
      "0\n",
      "1\n",
      "2\n",
      "Total epoch: 4\n",
      "A_final:\n",
      " [[0.402 0.598]\n",
      " [0.606 0.394]]\n",
      "A_gt:\n",
      " [[0.491 0.509]\n",
      " [0.744 0.256]]\n",
      "diff_A: 0.23185499297526743\n",
      "B_final:\n",
      " [[0.546 0.008 0.179 0.267]\n",
      " [0.09  0.142 0.172 0.596]]\n",
      "B_gt:\n",
      " [[0.441 0.073 0.186 0.3  ]\n",
      " [0.145 0.075 0.156 0.624]]\n",
      "diff_B: 0.1581772597532011\n",
      "P_final:\n",
      " [[0.714 0.    0.286]\n",
      " [0.    0.731 0.269]]\n",
      "P_gt:\n",
      " [[0.606 0.    0.394]\n",
      " [0.    0.894 0.106]]\n",
      "diff_P: 0.27571321679913435\n"
     ]
    },
    {
     "data": {
      "image/png": "[encoded data removed]",
      "text/plain": [
       "<Figure size 432x288 with 1 Axes>"
      ]
     },
     "metadata": {
      "needs_background": "light"
     },
     "output_type": "display_data"
    },
    {
     "name": "stdout",
     "output_type": "stream",
     "text": [
      "The best probability we can get on the combined CML appraoch is: -2511.7241055974387\n",
      "A_final:\n",
      " [[0.529 0.471]\n",
      " [0.714 0.286]]\n",
      "A_gt:\n",
      " [[0.491 0.509]\n",
      " [0.744 0.256]]\n",
      "diff_A: 0.06933185779300888\n",
      "B_final:\n",
      " [[0.468 0.032 0.183 0.317]\n",
      " [0.095 0.139 0.164 0.602]]\n",
      "B_gt:\n",
      " [[0.441 0.073 0.186 0.3  ]\n",
      " [0.145 0.075 0.156 0.624]]\n",
      "diff_B: 0.09888003057738466\n"
     ]
    },
    {
     "data": {
      "image/png": "[encoded data removed]",
      "text/plain": [
       "<Figure size 432x288 with 1 Axes>"
      ]
     },
     "metadata": {
      "needs_background": "light"
     },
     "output_type": "display_data"
    },
    {
     "name": "stdout",
     "output_type": "stream",
     "text": [
      "The best probability we can get on the pure BW appraoch is: -2510.771876246113\n",
      "0\n",
      "1\n",
      "2\n",
      "Total epoch: 0\n",
      "0\n",
      "1\n",
      "2\n",
      "Total epoch: 1\n",
      "0\n",
      "1\n",
      "2\n",
      "Total epoch: 2\n",
      "0\n",
      "1\n",
      "2\n",
      "Total epoch: 3\n",
      "0\n",
      "1\n",
      "2\n",
      "Total epoch: 4\n",
      "A_final:\n",
      " [[0.338 0.662]\n",
      " [0.528 0.472]]\n",
      "A_gt:\n",
      " [[0.346 0.654]\n",
      " [0.537 0.463]]\n",
      "diff_A: 0.01713413049273854\n",
      "B_final:\n",
      " [[0.252 0.295 0.06  0.392]\n",
      " [0.3   0.136 0.404 0.16 ]]\n",
      "B_gt:\n",
      " [[0.225 0.288 0.062 0.425]\n",
      " [0.325 0.138 0.404 0.133]]\n",
      "diff_B: 0.056684798911906344\n",
      "P_final:\n",
      " [[0.885 0.    0.115]\n",
      " [0.    0.801 0.199]]\n",
      "P_gt:\n",
      " [[0.879 0.    0.121]\n",
      " [0.    0.809 0.191]]\n",
      "diff_P: 0.013930878754390873\n"
     ]
    },
    {
     "data": {
      "image/png": "[encoded data removed]",
      "text/plain": [
       "<Figure size 432x288 with 1 Axes>"
      ]
     },
     "metadata": {
      "needs_background": "light"
     },
     "output_type": "display_data"
    },
    {
     "name": "stdout",
     "output_type": "stream",
     "text": [
      "The best probability we can get on the combined CML appraoch is: -2825.0511997292137\n",
      "A_final:\n",
      " [[0.276 0.724]\n",
      " [0.505 0.495]]\n",
      "A_gt:\n",
      " [[0.346 0.654]\n",
      " [0.537 0.463]]\n",
      "diff_A: 0.10907517015719188\n",
      "B_final:\n",
      " [[0.229 0.306 0.066 0.399]\n",
      " [0.314 0.137 0.381 0.168]]\n",
      "B_gt:\n",
      " [[0.225 0.288 0.062 0.425]\n",
      " [0.325 0.138 0.404 0.133]]\n",
      "diff_B: 0.053843772969054494\n"
     ]
    },
    {
     "data": {
      "image/png": "[encoded data removed]",
      "text/plain": [
       "<Figure size 432x288 with 1 Axes>"
      ]
     },
     "metadata": {
      "needs_background": "light"
     },
     "output_type": "display_data"
    },
    {
     "name": "stdout",
     "output_type": "stream",
     "text": [
      "The best probability we can get on the pure BW appraoch is: -2824.9089952512277\n",
      "0\n",
      "1\n",
      "2\n",
      "Total epoch: 0\n",
      "0\n",
      "1\n",
      "2\n",
      "Total epoch: 1\n",
      "0\n",
      "1\n",
      "2\n",
      "Total epoch: 2\n",
      "0\n",
      "1\n",
      "2\n",
      "Total epoch: 3\n",
      "0\n",
      "1\n",
      "2\n",
      "Total epoch: 4\n",
      "A_final:\n",
      " [[0.24 0.76]\n",
      " [0.37 0.63]]\n",
      "A_gt:\n",
      " [[0.342 0.658]\n",
      " [0.489 0.511]]\n",
      "diff_A: 0.22120390251961408\n",
      "B_final:\n",
      " [[0.178 0.536 0.138 0.149]\n",
      " [0.083 0.246 0.363 0.307]]\n",
      "B_gt:\n",
      " [[0.1   0.439 0.261 0.2  ]\n",
      " [0.126 0.27  0.306 0.298]]\n",
      "diff_B: 0.19761619502549832\n",
      "P_final:\n",
      " [[0.798 0.    0.202]\n",
      " [0.    0.803 0.197]]\n",
      "P_gt:\n",
      " [[0.608 0.    0.392]\n",
      " [0.    0.947 0.053]]\n",
      "diff_P: 0.3370984059900047\n"
     ]
    },
    {
     "data": {
      "image/png": "[encoded data removed]",
      "text/plain": [
       "<Figure size 432x288 with 1 Axes>"
      ]
     },
     "metadata": {
      "needs_background": "light"
     },
     "output_type": "display_data"
    },
    {
     "name": "stdout",
     "output_type": "stream",
     "text": [
      "The best probability we can get on the combined CML appraoch is: -2707.855886830526\n",
      "A_final:\n",
      " [[0.446 0.554]\n",
      " [0.548 0.452]]\n",
      "A_gt:\n",
      " [[0.342 0.658]\n",
      " [0.489 0.511]]\n",
      "diff_A: 0.16859952949295634\n",
      "B_final:\n",
      " [[0.155 0.472 0.187 0.186]\n",
      " [0.074 0.212 0.391 0.323]]\n",
      "B_gt:\n",
      " [[0.1   0.439 0.261 0.2  ]\n",
      " [0.126 0.27  0.306 0.298]]\n",
      "diff_B: 0.15451729232795333\n"
     ]
    },
    {
     "data": {
      "image/png": "[encoded data removed]",
      "text/plain": [
       "<Figure size 432x288 with 1 Axes>"
      ]
     },
     "metadata": {
      "needs_background": "light"
     },
     "output_type": "display_data"
    },
    {
     "name": "stdout",
     "output_type": "stream",
     "text": [
      "The best probability we can get on the pure BW appraoch is: -2707.7373080006064\n",
      "0\n",
      "1\n",
      "2\n",
      "Total epoch: 0\n",
      "0\n",
      "1\n",
      "2\n",
      "Total epoch: 1\n",
      "0\n",
      "1\n",
      "2\n",
      "Total epoch: 2\n",
      "0\n",
      "1\n",
      "2\n",
      "Total epoch: 3\n",
      "0\n",
      "1\n",
      "2\n",
      "Total epoch: 4\n",
      "A_final:\n",
      " [[0.259 0.741]\n",
      " [0.336 0.664]]\n",
      "A_gt:\n",
      " [[0.272 0.728]\n",
      " [0.337 0.663]]\n",
      "diff_A: 0.018139017101180835\n",
      "B_final:\n",
      " [[0.178 0.494 0.083 0.245]\n",
      " [0.551 0.016 0.217 0.216]]\n",
      "B_gt:\n",
      " [[0.147 0.399 0.094 0.359]\n",
      " [0.566 0.059 0.213 0.162]]\n",
      "diff_B: 0.1679293958233349\n",
      "P_final:\n",
      " [[0.658 0.    0.342]\n",
      " [0.    0.781 0.219]]\n",
      "P_gt:\n",
      " [[0.661 0.    0.339]\n",
      " [0.    0.78  0.22 ]]\n",
      "diff_P: 0.004500849627278158\n"
     ]
    },
    {
     "data": {
      "image/png": "[encoded data removed]",
      "text/plain": [
       "<Figure size 432x288 with 1 Axes>"
      ]
     },
     "metadata": {
      "needs_background": "light"
     },
     "output_type": "display_data"
    },
    {
     "name": "stdout",
     "output_type": "stream",
     "text": [
      "The best probability we can get on the combined CML appraoch is: -2662.975938942308\n",
      "A_final:\n",
      " [[0.155 0.845]\n",
      " [0.363 0.637]]\n",
      "A_gt:\n",
      " [[0.272 0.728]\n",
      " [0.337 0.663]]\n",
      "diff_A: 0.16939868698822433\n",
      "B_final:\n",
      " [[0.272 0.35  0.136 0.241]\n",
      " [0.504 0.085 0.192 0.218]]\n",
      "B_gt:\n",
      " [[0.147 0.399 0.094 0.359]\n",
      " [0.566 0.059 0.213 0.162]]\n",
      "diff_B: 0.20443267566507287\n"
     ]
    },
    {
     "data": {
      "image/png": "[encoded data removed]",
      "text/plain": [
       "<Figure size 432x288 with 1 Axes>"
      ]
     },
     "metadata": {
      "needs_background": "light"
     },
     "output_type": "display_data"
    },
    {
     "name": "stdout",
     "output_type": "stream",
     "text": [
      "The best probability we can get on the pure BW appraoch is: -2662.8981005694864\n",
      "0\n",
      "1\n",
      "2\n",
      "Total epoch: 0\n",
      "0\n",
      "1\n",
      "2\n",
      "Total epoch: 1\n",
      "0\n",
      "1\n",
      "2\n",
      "Total epoch: 2\n",
      "0\n",
      "1\n",
      "2\n",
      "Total epoch: 3\n",
      "0\n",
      "1\n",
      "2\n",
      "Total epoch: 4\n",
      "A_final:\n",
      " [[0.581 0.419]\n",
      " [0.512 0.488]]\n",
      "A_gt:\n",
      " [[0.6   0.4  ]\n",
      " [0.522 0.478]]\n",
      "diff_A: 0.030285196789538227\n",
      "B_final:\n",
      " [[0.237 0.477 0.062 0.224]\n",
      " [0.421 0.318 0.179 0.083]]\n",
      "B_gt:\n",
      " [[0.237 0.561 0.06  0.142]\n",
      " [0.419 0.204 0.191 0.186]]\n",
      "diff_B: 0.19379868447754967\n",
      "P_final:\n",
      " [[0.849 0.    0.151]\n",
      " [0.    0.941 0.059]]\n",
      "P_gt:\n",
      " [[0.831 0.    0.169]\n",
      " [0.    0.972 0.028]]\n",
      "diff_P: 0.050830401328788806\n"
     ]
    },
    {
     "data": {
      "image/png": "[encoded data removed]",
      "text/plain": [
       "<Figure size 432x288 with 1 Axes>"
      ]
     },
     "metadata": {
      "needs_background": "light"
     },
     "output_type": "display_data"
    },
    {
     "name": "stdout",
     "output_type": "stream",
     "text": [
      "The best probability we can get on the combined CML appraoch is: -2605.9944161693634\n",
      "A_final:\n",
      " [[0.698 0.302]\n",
      " [0.633 0.367]]\n",
      "A_gt:\n",
      " [[0.6   0.4  ]\n",
      " [0.522 0.478]]\n",
      "diff_A: 0.20941340283842205\n",
      "B_final:\n",
      " [[0.263 0.46  0.075 0.202]\n",
      " [0.438 0.29  0.198 0.074]]\n",
      "B_gt:\n",
      " [[0.237 0.561 0.06  0.142]\n",
      " [0.419 0.204 0.191 0.186]]\n",
      "diff_B: 0.1874881681274317\n"
     ]
    },
    {
     "data": {
      "image/png": "[encoded data removed]",
      "text/plain": [
       "<Figure size 432x288 with 1 Axes>"
      ]
     },
     "metadata": {
      "needs_background": "light"
     },
     "output_type": "display_data"
    },
    {
     "name": "stdout",
     "output_type": "stream",
     "text": [
      "The best probability we can get on the pure BW appraoch is: -2605.9729537044136\n"
     ]
    }
   ],
   "source": [
    "K = 2                  # states\n",
    "L = 4                  # observations\n",
    "T_train = 15           # number of training sequences \n",
    "T_dev = 10             # number of development set sequences\n",
    "T = T_train + T_dev    # total number of sequences\n",
    "N = 2048               # number of observations on each sequence\n",
    "noise_variance = 0.1   # Noise variance\n",
    "alternate_iter = 3     # alternate the update of A and P after 'alternate_iter' iterations with B and pi\n",
    "max_total_epoch = 5    # Do the update of A and P and B and pi respectively max_total_epoch times \n",
    "                       # where each iteration of A/B/P/pi is alternate_iter times\n",
    "bw_iter = 40           # Max iterate for tthe pure baum-welch approach \n",
    "do_experiment = 5      \n",
    "\n",
    "for i in range(do_experiment):\n",
    "    A_gt, B_gt, pi_gt, P_gt, teoretical_observations, teoretical_states, teoretical_labels = cswl.hmmgenerate(K, L, T, N, S=0, D=0, edhmm = False)\n",
    "    A_init, B_init, pi_init, P_init = get_initial_values(A_gt, B_gt, noise_variance, P_gt, have_P = True)\n",
    "    A_final_cml, B_final_cml, pi_final_cml = combined_cml_approach(A_init, A_gt, B_init, B_gt, P_init, P_gt, pi_init, teoretical_observations, teoretical_labels, max_total_epoch, T_train, alternate_iter, K)\n",
    "    A_final_bw, B_final_bw, pi_final_bw = pure_bw_approach(A_init, A_gt, B_init, B_gt, teoretical_observations, K, bw_iter, pi_init)\n",
    "    #calculate_wrong_prediction(T_dev, T_train, teoretical_observations, teoretical_states, A_final_cml, B_final_cml, pi_final_cml, A_final_bw, B_final_bw, pi_final_bw)\n"
   ]
  },
  {
   "cell_type": "code",
   "execution_count": null,
   "metadata": {},
   "outputs": [],
   "source": []
  }
 ],
 "metadata": {
  "kernelspec": {
   "display_name": "Python 3.9.7 ('base')",
   "language": "python",
   "name": "python3"
  },
  "language_info": {
   "codemirror_mode": {
    "name": "ipython",
    "version": 3
   },
   "file_extension": ".py",
   "mimetype": "text/x-python",
   "name": "python",
   "nbconvert_exporter": "python",
   "pygments_lexer": "ipython3",
   "version": "3.9.7"
  },
  "orig_nbformat": 4,
  "vscode": {
   "interpreter": {
    "hash": "ad2bdc8ecc057115af97d19610ffacc2b4e99fae6737bb82f5d7fb13d2f2c186"
   }
  }
 },
 "nbformat": 4,
 "nbformat_minor": 2
}
