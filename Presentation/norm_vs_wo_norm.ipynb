{
 "cells": [
  {
   "cell_type": "markdown",
   "id": "bb0cbbea",
   "metadata": {},
   "source": [
    "# This code checks whether the estimated matrices are the same when we use normalization vs when we do not use normalization "
   ]
  },
  {
   "cell_type": "code",
   "execution_count": 2,
   "id": "6e8b03d6",
   "metadata": {},
   "outputs": [],
   "source": [
    "from create_sequence_w_labels import *\n",
    "import matplotlib.pyplot as plt \n",
    "from initial_guess import get_initial_values\n",
    "\n",
    "from cml_incomplete_wo_norm import fit as wo_norm_fit\n",
    "from cml_incomplete_normalized import fit as norm_fit"
   ]
  },
  {
   "cell_type": "code",
   "execution_count": 5,
   "id": "d936eec0",
   "metadata": {},
   "outputs": [
    {
     "name": "stdout",
     "output_type": "stream",
     "text": [
      "EQUAL\n",
      "EQUAL\n",
      "EQUAL\n",
      "EQUAL\n",
      "EQUAL\n",
      "EQUAL\n",
      "EQUAL\n",
      "EQUAL\n",
      "EQUAL\n",
      "EQUAL\n"
     ]
    }
   ],
   "source": [
    "K = 8\n",
    "L = 16\n",
    "T = 8192\n",
    "N = 16\n",
    "noise = 0.2\n",
    "max_iter = 5\n",
    "for i in range(10):\n",
    "    A_gt, B_gt, pi_gt, P_gt, observations, states, labels = hmmgenerate(K, L, T, N, S=0, D=0, edhmm = False, complete=False)\n",
    "    A_init, B_init, pi_init, P_init = get_initial_values(A_gt, B_gt, noise, P_gt, have_P = True)\n",
    "\n",
    "    A = A_init\n",
    "    B = B_init\n",
    "    P = P_init\n",
    "    pi = pi_init\n",
    "\n",
    "    A_norm, B_norm, P_norm, pi_norm, _, ln_P = norm_fit(A, B, P, pi, observations, labels, max_iter, update_A=True, update_B=True, update_P=True, update_pi=True)\n",
    "    A_wo_norm, B_wo_norm, P_wo_norm, pi_wo_norm, _, _ = wo_norm_fit(A, B, P, pi, observations, labels, max_iter, update_A=True, update_B=True, update_P=True, update_pi=True)\n",
    "    \n",
    "    diff_A = np.linalg.norm(A_norm - A_wo_norm)\n",
    "    diff_B = np.linalg.norm(B_norm - B_wo_norm)\n",
    "    diff_P = np.linalg.norm(P_norm - P_wo_norm)\n",
    "    diff_pi = np.linalg.norm(pi_norm - pi_wo_norm)\n",
    "    if diff_A >= 1e-13 or diff_B >= 1e-13 or diff_P >= 1e-13 or diff_pi >= 1e-13:\n",
    "        print('NOT EQUAL')\n",
    "    else:\n",
    "        print('EQUAL')"
   ]
  },
  {
   "cell_type": "code",
   "execution_count": null,
   "id": "1d1097ce",
   "metadata": {},
   "outputs": [],
   "source": []
  }
 ],
 "metadata": {
  "kernelspec": {
   "display_name": "Python 3 (ipykernel)",
   "language": "python",
   "name": "python3"
  },
  "language_info": {
   "codemirror_mode": {
    "name": "ipython",
    "version": 3
   },
   "file_extension": ".py",
   "mimetype": "text/x-python",
   "name": "python",
   "nbconvert_exporter": "python",
   "pygments_lexer": "ipython3",
   "version": "3.9.7"
  }
 },
 "nbformat": 4,
 "nbformat_minor": 5
}
