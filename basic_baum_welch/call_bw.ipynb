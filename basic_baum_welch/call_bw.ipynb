{
 "cells": [
  {
   "cell_type": "code",
   "execution_count": 1,
   "id": "774e654a",
   "metadata": {},
   "outputs": [],
   "source": [
    "%load_ext autoreload\n",
    "%autoreload 2\n",
    "import numpy as np\n",
    "import matplotlib.pyplot as plt \n",
    "from baum_welch import *\n",
    "from sequence_creator_according_to_hmm_model import *"
   ]
  },
  {
   "cell_type": "code",
   "execution_count": 2,
   "id": "5ae3523d",
   "metadata": {},
   "outputs": [],
   "source": [
    "def get_initial_values(A_gt, B_gt, noice_variance):\n",
    "    K = A_gt.shape[0]\n",
    "    \n",
    "    noise = np.random.normal(0, noice_variance, A_gt.shape)\n",
    "    A_pert = np.abs(A_gt + noise)\n",
    "    A_init = np.divide(A_pert, np.sum(A_pert, axis=1).reshape((-1, K)).T)\n",
    "    A_init = np.round(A_init, 3)\n",
    "\n",
    "    noise = np.random.normal(0, noice_variance, B_gt.shape)\n",
    "    B_pert = np.abs(B_gt + noise)\n",
    "    B_init = np.divide(B_pert, np.sum(B_pert, axis=1).reshape((-1, K)).T)\n",
    "    B_init = np.round(B_init, 3)\n",
    "    \n",
    "    pi_init = (np.ones(K)/K).reshape((K,1))\n",
    "    return A_init, B_init, pi_init"
   ]
  },
  {
   "cell_type": "code",
   "execution_count": 3,
   "id": "95323f87",
   "metadata": {},
   "outputs": [
    {
     "name": "stdout",
     "output_type": "stream",
     "text": [
      "B init: [[0.129 0.13  0.062 0.266 0.085 0.122 0.17  0.035]\n",
      " [0.075 0.005 0.091 0.19  0.265 0.115 0.127 0.132]\n",
      " [0.136 0.112 0.077 0.015 0.017 0.119 0.203 0.322]\n",
      " [0.276 0.065 0.043 0.142 0.106 0.134 0.096 0.139]]\n",
      "B final: [[0.032 0.147 0.173 0.272 0.056 0.121 0.192 0.008]\n",
      " [0.255 0.    0.014 0.227 0.117 0.075 0.08  0.232]\n",
      " [0.198 0.123 0.022 0.023 0.139 0.066 0.022 0.407]\n",
      " [0.22  0.1   0.051 0.224 0.    0.261 0.004 0.14 ]]\n",
      "B_gt: [[0.204 0.167 0.047 0.139 0.122 0.129 0.084 0.109]\n",
      " [0.159 0.08  0.026 0.232 0.106 0.053 0.109 0.235]\n",
      " [0.079 0.123 0.188 0.191 0.07  0.058 0.14  0.152]\n",
      " [0.169 0.053 0.021 0.308 0.03  0.316 0.012 0.091]]\n"
     ]
    },
    {
     "data": {
      "image/png": "[encoded data removed]",
      "text/plain": [
       "<Figure size 432x288 with 1 Axes>"
      ]
     },
     "metadata": {
      "needs_background": "light"
     },
     "output_type": "display_data"
    },
    {
     "data": {
      "text/plain": [
       "\"\\n# Second hold A and pi just update B\\nA, B, pi, prob_list, iter, final_tolerance = fit(A_gt, B_init, teoretical_observations, K, TOL = 1e-5, NUM_ITER = 400, pi = pi_gt, hold_A=True, hold_pi=True)\\nprint('B init:', B_init)\\nprint('B final:', np.round(B,3))\\nprint('B_gt:', B_gt)\\nplt.show(plt.plot(prob_list[1:]))\\n\\n# Third update everything\\nA, B, pi, prob_list, iter, final_tolerance = fit(A_init, B_init, teoretical_observations, K, TOL = 1e-5, NUM_ITER = 400, pi = pi_init)\\nprint('A init:', A_init)\\nprint('A final:', np.round(A,3))\\nprint('A_gt:', A_gt)\\nplt.show(plt.plot(prob_list[1:]))\\n\""
      ]
     },
     "execution_count": 3,
     "metadata": {},
     "output_type": "execute_result"
    }
   ],
   "source": [
    "K = 4\n",
    "L = 8\n",
    "T = 10\n",
    "N = 400\n",
    "noise = 0.5\n",
    "\n",
    "np.random.seed(33)\n",
    "A_gt, B_gt, pi_gt, teoretical_observations, teoretical_states = hmmgenerate(K, L, T, N, S=0, D=0, edhmm = False)\n",
    "A_init, B_init, pi_init = get_initial_values(A_gt, B_gt, noise)\n",
    "\n",
    "# First hold B and pi just update A\n",
    "A, B, pi, prob_list, iter, final_tolerance = fit(A_init, B_init, teoretical_observations, K, TOL = 1e-5, NUM_ITER = 400, pi = pi_init, hold_B=False, hold_pi=True)\n",
    "print('B init:', B_init)\n",
    "print('B final:', np.round(B,3))\n",
    "print('B_gt:', B_gt)\n",
    "plt.show(plt.plot(prob_list[1:]))"
   ]
  },
  {
   "cell_type": "code",
   "execution_count": null,
   "id": "789e3a86",
   "metadata": {},
   "outputs": [],
   "source": []
  }
 ],
 "metadata": {
  "kernelspec": {
   "display_name": "Python 3 (ipykernel)",
   "language": "python",
   "name": "python3"
  },
  "language_info": {
   "codemirror_mode": {
    "name": "ipython",
    "version": 3
   },
   "file_extension": ".py",
   "mimetype": "text/x-python",
   "name": "python",
   "nbconvert_exporter": "python",
   "pygments_lexer": "ipython3",
   "version": "3.9.7"
  },
  "vscode": {
   "interpreter": {
    "hash": "ad2bdc8ecc057115af97d19610ffacc2b4e99fae6737bb82f5d7fb13d2f2c186"
   }
  }
 },
 "nbformat": 4,
 "nbformat_minor": 5
}
